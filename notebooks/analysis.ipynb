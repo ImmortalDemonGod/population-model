{
 "cells": [
  {
   "cell_type": "markdown",
   "metadata": {},
   "source": [
    "# Population Model Analysis\n",
    "\n",
    "This notebook is used for analyzing the results of the population model simulations. It allows for interactive exploration of the data generated from the simulations."
   ]
  },
  {
   "cell_type": "code",
   "execution_count": 5,
   "metadata": {},
   "outputs": [
    {
     "name": "stdout",
     "output_type": "stream",
     "text": [
      "/Users/tomriddle1/Documents/GitHub/population-model/notebooks\n",
      "Requirement already satisfied: NumPy in ./.venv/lib/python3.13/site-packages (from -r requirements.txt (line 1)) (2.2.0)\n",
      "Requirement already satisfied: Matplotlib in ./.venv/lib/python3.13/site-packages (from -r requirements.txt (line 2)) (3.10.0)\n",
      "Requirement already satisfied: SciPy in ./.venv/lib/python3.13/site-packages (from -r requirements.txt (line 3)) (1.14.1)\n",
      "Requirement already satisfied: contourpy>=1.0.1 in ./.venv/lib/python3.13/site-packages (from Matplotlib->-r requirements.txt (line 2)) (1.3.1)\n",
      "Requirement already satisfied: cycler>=0.10 in ./.venv/lib/python3.13/site-packages (from Matplotlib->-r requirements.txt (line 2)) (0.12.1)\n",
      "Requirement already satisfied: fonttools>=4.22.0 in ./.venv/lib/python3.13/site-packages (from Matplotlib->-r requirements.txt (line 2)) (4.55.3)\n",
      "Requirement already satisfied: kiwisolver>=1.3.1 in ./.venv/lib/python3.13/site-packages (from Matplotlib->-r requirements.txt (line 2)) (1.4.7)\n",
      "Requirement already satisfied: packaging>=20.0 in ./.venv/lib/python3.13/site-packages (from Matplotlib->-r requirements.txt (line 2)) (24.2)\n",
      "Requirement already satisfied: pillow>=8 in ./.venv/lib/python3.13/site-packages (from Matplotlib->-r requirements.txt (line 2)) (11.0.0)\n",
      "Requirement already satisfied: pyparsing>=2.3.1 in ./.venv/lib/python3.13/site-packages (from Matplotlib->-r requirements.txt (line 2)) (3.2.0)\n",
      "Requirement already satisfied: python-dateutil>=2.7 in ./.venv/lib/python3.13/site-packages (from Matplotlib->-r requirements.txt (line 2)) (2.9.0.post0)\n",
      "Requirement already satisfied: six>=1.5 in ./.venv/lib/python3.13/site-packages (from python-dateutil>=2.7->Matplotlib->-r requirements.txt (line 2)) (1.17.0)\n",
      "Traceback (most recent call last):\n",
      "  File \u001b[35m\"/Users/tomriddle1/Documents/GitHub/population-model/src/main.py\"\u001b[0m, line \u001b[35m25\u001b[0m, in \u001b[35m<module>\u001b[0m\n",
      "    \u001b[31mmain\u001b[0m\u001b[1;31m()\u001b[0m\n",
      "    \u001b[31m~~~~\u001b[0m\u001b[1;31m^^\u001b[0m\n",
      "  File \u001b[35m\"/Users/tomriddle1/Documents/GitHub/population-model/src/main.py\"\u001b[0m, line \u001b[35m18\u001b[0m, in \u001b[35mmain\u001b[0m\n",
      "    population_over_time = \u001b[1;31mpopulation_model.simulate\u001b[0m(time_steps)\n",
      "                           \u001b[1;31m^^^^^^^^^^^^^^^^^^^^^^^^^\u001b[0m\n",
      "\u001b[1;35mAttributeError\u001b[0m: \u001b[35m'Population' object has no attribute 'simulate'\u001b[0m\n"
     ]
    }
   ],
   "source": [
    "# lets see where we are\n",
    "!pwd\n",
    "# /Users/tomriddle1/Documents/GitHub/population-model/notebooks\n",
    "\n",
    "# Install dependencies first\n",
    "! cd ../; pip install -r requirements.txt; python src/main.py\n",
    "\n",
    "# Run the simulation"
   ]
  },
  {
   "cell_type": "code",
   "execution_count": null,
   "metadata": {
    "collapsed": false
   },
   "outputs": [],
   "source": [
    "import numpy as np\n",
    "import matplotlib.pyplot as plt\n",
    "import json\n",
    "\n",
    "# Load parameters from JSON file\n",
    "with open('../data/parameters.json') as f:\n",
    "    params = json.load(f)\n",
    "\n",
    "# Example analysis function\n",
    "def analyze_population_growth(population_data):\n",
    "    time = np.arange(len(population_data))\n",
    "    plt.figure(figsize=(10, 5))\n",
    "    plt.plot(time, population_data, label='Population Size')\n",
    "    plt.title('Population Growth Over Time')\n",
    "    plt.xlabel('Time')\n",
    "    plt.ylabel('Population Size')\n",
    "    plt.legend()\n",
    "    plt.grid(True)\n",
    "    plt.show()\n",
    "\n",
    "# Example usage (replace with actual population data)\n",
    "# analyze_population_growth(population_data)"
   ]
  }
 ],
 "metadata": {
  "kernelspec": {
   "display_name": ".venv",
   "language": "python",
   "name": "python3"
  },
  "language_info": {
   "codemirror_mode": {
    "name": "ipython",
    "version": 3
   },
   "file_extension": ".py",
   "mimetype": "text/x-python",
   "name": "python",
   "nbconvert_exporter": "python",
   "pygments_lexer": "ipython3",
   "version": "3.13.1"
  }
 },
 "nbformat": 4,
 "nbformat_minor": 4
}
